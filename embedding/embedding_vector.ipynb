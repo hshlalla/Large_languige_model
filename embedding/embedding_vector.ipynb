{
 "cells": [
  {
   "cell_type": "code",
   "execution_count": null,
   "metadata": {},
   "outputs": [],
   "source": [
    "from sentence_transformers import SentenceTransformer\n",
    "import faiss\n",
    "\n",
    "# 모델 로드\n",
    "model = SentenceTransformer('all-MiniLM-L6-v2')\n",
    "\n",
    "# 데이터 임베딩 생성\n",
    "documents = [\"문서 내용 1\", \"문서 내용 2\", \"문서 내용 3\"]\n",
    "doc_embeddings = model.encode(documents)\n",
    "\n",
    "# 벡터 데이터베이스에 추가\n",
    "index = faiss.IndexFlatL2(doc_embeddings.shape[1])  # L2 distance\n",
    "index.add(doc_embeddings)\n"
   ]
  },
  {
   "cell_type": "markdown",
   "metadata": {},
   "source": []
  }
 ],
 "metadata": {
  "kernelspec": {
   "display_name": ".venv",
   "language": "python",
   "name": "python3"
  },
  "language_info": {
   "name": "python",
   "version": "3.12.3"
  }
 },
 "nbformat": 4,
 "nbformat_minor": 2
}
