{
 "cells": [
  {
   "cell_type": "code",
   "execution_count": null,
   "id": "2d12a5da",
   "metadata": {},
   "outputs": [
    {
     "name": "stderr",
     "output_type": "stream",
     "text": [
      "/workspace/Large_languige_model/.venv/lib/python3.10/site-packages/tqdm/auto.py:21: TqdmWarning: IProgress not found. Please update jupyter and ipywidgets. See https://ipywidgets.readthedocs.io/en/stable/user_install.html\n",
      "  from .autonotebook import tqdm as notebook_tqdm\n"
     ]
    }
   ],
   "source": [
    "import sys\n",
    "import os\n",
    "import gradio as gr\n",
    "import pandas as pd\n",
    "from rapidfuzz import process, fuzz\n",
    "src_dir = os.path.abspath(os.path.join(os.getcwd(), \"..\"))\n",
    "if src_dir not in sys.path:\n",
    "    sys.path.append(src_dir)\n",
    "from modules.preprocess import *\n",
    "\n",
    "reference_df = pd.read_csv(\"../../data/test_dataset.csv\")\n",
    "# reference_df[\"modelAlias\"] = reference_df[\"modelAlias\"].apply(normalize_query)\n",
    "# reference_df[\"makerAlias\"] = reference_df[\"makerAlias\"].apply(normalize_query)\n",
    "reference_df.fillna(\"\", inplace=True)\n",
    "#reference_tuples = list(reference_df[['modelID', 'modelAlias', 'makerAlias']].itertuples(index=False, name=None))\n",
    "reference_tuples = []\n",
    "\n",
    "for model_id, group in reference_df.groupby(\"modelID\"):\n",
    "    alias_list = group[\"modelAlias\"].dropna().unique().tolist()\n",
    "    maker_list = group[\"makerAlias\"].dropna().unique().tolist()\n",
    "    reference_tuples.append((model_id, alias_list, maker_list))\n",
    "\n",
    "\n",
    "\n",
    "# 유사도 매칭 함수\n",
    "def fuzzy_match_model_id_fast(model_alias, maker_alias, reference_tuples, top_k=5):\n",
    "    query = f\"{model_alias} {maker_alias}\".strip()\n",
    "\n",
    "    all_choices = []\n",
    "    all_ids = []\n",
    "\n",
    "    for model_id, model_list, maker_list in reference_tuples:\n",
    "        for model in model_list:\n",
    "            if not maker_alias.strip():\n",
    "                all_choices.append(model)\n",
    "                all_ids.append(model_id)\n",
    "            else:\n",
    "                for maker in maker_list:\n",
    "                    all_choices.append(f\"{model} {maker}\")\n",
    "                    all_ids.append(model_id)\n",
    "\n",
    "    matches = process.extract(\n",
    "        query,\n",
    "        all_choices,\n",
    "        scorer=fuzz.token_sort_ratio,\n",
    "        limit=top_k,\n",
    "        score_cutoff=70,\n",
    "    )\n",
    "\n",
    " \n",
    "    top_matches = [(all_ids[idx], score) for (_, score, idx) in matches]\n",
    "\n",
    "    return top_matches\n",
    "\n"
   ]
  },
  {
   "cell_type": "code",
   "execution_count": 4,
   "id": "5ecea90f",
   "metadata": {},
   "outputs": [
    {
     "name": "stdout",
     "output_type": "stream",
     "text": [
      "* Running on local URL:  http://127.0.0.1:7861\n",
      "* Running on public URL: https://caef80c7228079c6c8.gradio.live\n",
      "\n",
      "This share link expires in 72 hours. For free permanent hosting and GPU upgrades, run `gradio deploy` from the terminal in the working directory to deploy to Hugging Face Spaces (https://huggingface.co/spaces)\n"
     ]
    },
    {
     "data": {
      "text/html": [
       "<div><iframe src=\"https://caef80c7228079c6c8.gradio.live\" width=\"100%\" height=\"500\" allow=\"autoplay; camera; microphone; clipboard-read; clipboard-write;\" frameborder=\"0\" allowfullscreen></iframe></div>"
      ],
      "text/plain": [
       "<IPython.core.display.HTML object>"
      ]
     },
     "metadata": {},
     "output_type": "display_data"
    },
    {
     "data": {
      "text/plain": []
     },
     "execution_count": 4,
     "metadata": {},
     "output_type": "execute_result"
    }
   ],
   "source": [
    "def predict_from_excel(file):\n",
    "    try:\n",
    "        test_df = pd.read_excel(file)\n",
    "    except Exception as e:\n",
    "        return pd.DataFrame([{\"error\": f\"파일을 불러올 수 없습니다: {e}\"}])\n",
    "\n",
    "    # 필수 컬럼 확인\n",
    "    if not {\"MODEL_NAME\", \"MAKER_NAME\"}.issubset(test_df.columns):\n",
    "        return pd.DataFrame([{\"error\": \"엑셀 파일에 'MODEL_NAME', 'MAKER_NAME' 컬럼이 존재해야 합니다.\"}])\n",
    "\n",
    "    test_df.fillna(\"\", inplace=True)\n",
    "    test_df[\"MODEL_NAME\"] = test_df[\"MODEL_NAME\"].apply(normalize_query)\n",
    "    test_df[\"MAKER_NAME\"] = test_df[\"MAKER_NAME\"].apply(normalize_query)\n",
    "\n",
    "    results = []\n",
    "\n",
    "    for _, row in test_df.iterrows():\n",
    "        top_preds = fuzzy_match_model_id_fast(row[\"MODEL_NAME\"], row[\"MAKER_NAME\"], reference_tuples)\n",
    "\n",
    "        # modelID별 최대 점수로 그룹화\n",
    "        top_df = pd.DataFrame(top_preds, columns=[\"modelID\", \"score\"])\n",
    "        top_df = top_df.groupby(\"modelID\", as_index=False).agg({\"score\": \"max\"}).sort_values(\"score\", ascending=False)\n",
    "\n",
    "        if top_df.empty:\n",
    "            results.append({\n",
    "                \"input_MODEL_NAME\": row[\"MODEL_NAME\"],\n",
    "                \"input_MAKER_NAME\": row[\"MAKER_NAME\"],\n",
    "                \"predicted_modelID\": None,\n",
    "                \"score\": None,\n",
    "                \"predicted_others_modelID\": [],\n",
    "                \"others_score\": [],\n",
    "            })\n",
    "            continue\n",
    "\n",
    "        best_row = top_df.iloc[0]\n",
    "        other_rows = top_df.iloc[1:]\n",
    "\n",
    "        results.append({\n",
    "            \"input_MODEL_NAME\": row[\"MODEL_NAME\"],\n",
    "            \"input_MAKER_NAME\": row[\"MAKER_NAME\"],\n",
    "            \"predicted_modelID\": best_row[\"modelID\"],\n",
    "            \"score\": best_row[\"score\"],\n",
    "            \"predicted_others_modelID\": other_rows[\"modelID\"].tolist(),\n",
    "            \"others_score\": other_rows[\"score\"].tolist(),\n",
    "        })\n",
    "\n",
    "    return pd.DataFrame(results)\n",
    "\n",
    "\n",
    "\n",
    "\n",
    "# 📌 Gradio UI 구성\n",
    "iface = gr.Interface(\n",
    "    fn=predict_from_excel,\n",
    "    inputs=gr.File(type=\"filepath\", label=\"엑셀 파일 업로드 (MODEL_NAME, MAKER_NAME 포함)\"),\n",
    "    outputs=\"dataframe\",\n",
    "    title=\"🔍 ModelID Matcher\",\n",
    "    description=\"업로드한 엑셀의 MODEL_NAME과 MAKER_NAME을 기반으로 유사한 modelID를 추정합니다.\"\n",
    ")\n",
    "\n",
    "# 📌 앱 실행\n",
    "iface.launch(share=True)"
   ]
  },
  {
   "cell_type": "code",
   "execution_count": 3,
   "id": "1364ada4",
   "metadata": {},
   "outputs": [
    {
     "data": {
      "text/html": [
       "<div>\n",
       "<style scoped>\n",
       "    .dataframe tbody tr th:only-of-type {\n",
       "        vertical-align: middle;\n",
       "    }\n",
       "\n",
       "    .dataframe tbody tr th {\n",
       "        vertical-align: top;\n",
       "    }\n",
       "\n",
       "    .dataframe thead th {\n",
       "        text-align: right;\n",
       "    }\n",
       "</style>\n",
       "<table border=\"1\" class=\"dataframe\">\n",
       "  <thead>\n",
       "    <tr style=\"text-align: right;\">\n",
       "      <th></th>\n",
       "      <th>modelID</th>\n",
       "      <th>score</th>\n",
       "    </tr>\n",
       "  </thead>\n",
       "  <tbody>\n",
       "    <tr>\n",
       "      <th>0</th>\n",
       "      <td>MO6845</td>\n",
       "      <td>100.0</td>\n",
       "    </tr>\n",
       "  </tbody>\n",
       "</table>\n",
       "</div>"
      ],
      "text/plain": [
       "  modelID  score\n",
       "0  MO6845  100.0"
      ]
     },
     "execution_count": 3,
     "metadata": {},
     "output_type": "execute_result"
    }
   ],
   "source": [
    "model_query = \"XNIII-725PCG\"\n",
    "maker_query = \"\"\n",
    "category_query = \"\"\n",
    "top_preds = fuzzy_match_model_id_fast(normalize_query(model_query),normalize_query(maker_query), reference_tuples)\n",
    "pd.DataFrame(top_preds, columns=[\"modelID\", \"score\"]) \\\n",
    "  .groupby(\"modelID\", as_index=False) \\\n",
    "  .agg({\"score\": \"max\"}) \\\n",
    "  .sort_values(\"score\", ascending=False)\n"
   ]
  },
  {
   "cell_type": "code",
   "execution_count": 85,
   "id": "d61bf2cd",
   "metadata": {},
   "outputs": [
    {
     "data": {
      "text/html": [
       "<div>\n",
       "<style scoped>\n",
       "    .dataframe tbody tr th:only-of-type {\n",
       "        vertical-align: middle;\n",
       "    }\n",
       "\n",
       "    .dataframe tbody tr th {\n",
       "        vertical-align: top;\n",
       "    }\n",
       "\n",
       "    .dataframe thead th {\n",
       "        text-align: right;\n",
       "    }\n",
       "</style>\n",
       "<table border=\"1\" class=\"dataframe\">\n",
       "  <thead>\n",
       "    <tr style=\"text-align: right;\">\n",
       "      <th></th>\n",
       "      <th>modelID</th>\n",
       "      <th>category</th>\n",
       "      <th>modelAlias</th>\n",
       "      <th>makerAlias</th>\n",
       "    </tr>\n",
       "  </thead>\n",
       "  <tbody>\n",
       "  </tbody>\n",
       "</table>\n",
       "</div>"
      ],
      "text/plain": [
       "Empty DataFrame\n",
       "Columns: [modelID, category, modelAlias, makerAlias]\n",
       "Index: []"
      ]
     },
     "execution_count": 85,
     "metadata": {},
     "output_type": "execute_result"
    }
   ],
   "source": [
    "queryID=\"MO14258\"\n",
    "reference_df[reference_df[\"modelID\"]==queryID]"
   ]
  },
  {
   "cell_type": "code",
   "execution_count": 80,
   "id": "6710468a",
   "metadata": {},
   "outputs": [
    {
     "data": {
      "text/html": [
       "<div>\n",
       "<style scoped>\n",
       "    .dataframe tbody tr th:only-of-type {\n",
       "        vertical-align: middle;\n",
       "    }\n",
       "\n",
       "    .dataframe tbody tr th {\n",
       "        vertical-align: top;\n",
       "    }\n",
       "\n",
       "    .dataframe thead th {\n",
       "        text-align: right;\n",
       "    }\n",
       "</style>\n",
       "<table border=\"1\" class=\"dataframe\">\n",
       "  <thead>\n",
       "    <tr style=\"text-align: right;\">\n",
       "      <th></th>\n",
       "      <th>modelID</th>\n",
       "      <th>modelSTDName</th>\n",
       "      <th>MakerID</th>\n",
       "      <th>modelAlias</th>\n",
       "      <th>category</th>\n",
       "    </tr>\n",
       "  </thead>\n",
       "  <tbody>\n",
       "  </tbody>\n",
       "</table>\n",
       "</div>"
      ],
      "text/plain": [
       "Empty DataFrame\n",
       "Columns: [modelID, modelSTDName, MakerID, modelAlias, category]\n",
       "Index: []"
      ]
     },
     "execution_count": 80,
     "metadata": {},
     "output_type": "execute_result"
    }
   ],
   "source": [
    "model_df[model_df[\"modelID\"]==queryID]"
   ]
  },
  {
   "cell_type": "code",
   "execution_count": 79,
   "id": "277bd574",
   "metadata": {},
   "outputs": [],
   "source": [
    "model_df=pd.read_excel(\"../../data/250224 model_STD.xlsx\")\n"
   ]
  }
 ],
 "metadata": {
  "kernelspec": {
   "display_name": ".venv",
   "language": "python",
   "name": "python3"
  },
  "language_info": {
   "codemirror_mode": {
    "name": "ipython",
    "version": 3
   },
   "file_extension": ".py",
   "mimetype": "text/x-python",
   "name": "python",
   "nbconvert_exporter": "python",
   "pygments_lexer": "ipython3",
   "version": "3.10.16"
  }
 },
 "nbformat": 4,
 "nbformat_minor": 5
}
